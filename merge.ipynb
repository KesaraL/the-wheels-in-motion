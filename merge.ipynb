{
 "cells": [
  {
   "cell_type": "code",
   "execution_count": null,
   "metadata": {},
   "outputs": [
    {
     "name": "stdout",
     "output_type": "stream",
     "text": [
      "Found 9 CSV files.\n",
      "Combined DataFrame saved to 'combined_vehicles_data.csv'.\n"
     ]
    }
   ],
   "source": [
    "import pandas as pd\n",
    "import glob\n",
    "\n",
    "# Define the directory where your CSV files are stored\n",
    "csv_directory = \"./data/\"  # Replace with the directory path\n",
    "\n",
    "# Use glob to load all CSV files in the directory into a list\n",
    "csv_files = glob.glob(csv_directory + \"*.csv\")\n",
    "\n",
    "# Check if we have 9 files and load them into a list\n",
    "if len(csv_files) == 9:\n",
    "    print(f\"Found {len(csv_files)} CSV files.\")\n",
    "    #sample comment\n",
    "    \n",
    "    # Load all CSV files into a list of DataFrames\n",
    "    csv_data_list = [pd.read_csv(file) for file in csv_files]\n",
    "\n",
    "    # Concatenate the list of DataFrames into a single DataFrame\n",
    "    vehicles_df = pd.concat(csv_data_list, ignore_index=True)\n",
    "\n",
    "\n",
    "    # Optionally, save the combined DataFrame to a new CSV file\n",
    "    vehicles_df.to_csv(\"combined_vehicles_data.csv\", index=False)\n",
    "    print(\"Combined DataFrame saved to 'combined_vehicles_data.csv'.\")\n",
    "else:\n",
    "    print(f\"Expected 9 CSV files, but found {len(csv_files)}. Please check your directory.\")\n"
   ]
  },
  {
   "cell_type": "code",
   "execution_count": null,
   "metadata": {},
   "outputs": [
    {
     "name": "stdout",
     "output_type": "stream",
     "text": [
      "Unnamed: 0                               0\n",
      "Public Vehicle Number                    0\n",
      "Status                                   0\n",
      "Vehicle Make                          1917\n",
      "Vehicle Model                         1963\n",
      "Vehicle Model Year                    1942\n",
      "Vehicle Color                         1986\n",
      "Vehicle Fuel Source                      0\n",
      "Wheelchair Accessible                    0\n",
      "Company Name                             0\n",
      "Address                               1786\n",
      "City                                  1786\n",
      "State                                 1786\n",
      "ZIP Code                              1786\n",
      "Taxi Affiliation                      9254\n",
      "Taxi Medallion License Management     9281\n",
      "Record ID                                0\n",
      "dtype: int64\n",
      "Descriptive Statistics:\n",
      "        Unnamed: 0  Public Vehicle Number  Vehicle Model Year      ZIP Code\n",
      "count  16602.00000           1.660200e+04        14660.000000  14816.000000\n",
      "mean    8300.50000           3.854566e+04         2012.669714  60612.519573\n",
      "std     4792.72892           1.372946e+05           83.622806    104.290880\n",
      "min        0.00000           0.000000e+00            0.000000  60004.000000\n",
      "25%     4150.25000           3.633250e+03         2013.000000  60619.000000\n",
      "50%     8300.50000           6.991500e+03         2016.000000  60631.000000\n",
      "75%    12450.75000           1.683925e+04         2021.000000  60646.000000\n",
      "max    16601.00000           6.902206e+06         2025.000000  61111.000000\n",
      "\n",
      "Missing Values Percentage in Critical Columns:\n",
      "Vehicle Make    11.546802\n",
      "dtype: float64\n"
     ]
    }
   ],
   "source": [
    "# import pandas as pd\n",
    "# import numpy as np\n",
    "# file_path = \"./data/Hybrid_PassengerVehicle_Stats.csv\"\n",
    "\n",
    "# new_df = pd.read_csv(file_path)\n",
    "\n",
    "# missing = vehicles_df.isnull().sum()\n",
    "\n",
    "# print(missing)\n",
    "\n",
    "# print(\"Descriptive Statistics:\")\n",
    "# print(vehicles_df.describe())\n",
    "\n",
    "# critical_columns = [\"Vehicle Make\",\"Vehicle Model\"] \n",
    "# missing_percentage = vehicles_df[critical_columns].isnull().mean() * 100\n",
    "# print(\"\\nMissing Values Percentage in Critical Columns:\")\n",
    "# print(missing_percentage)\n",
    "\n"
   ]
  }
 ],
 "metadata": {
  "kernelspec": {
   "display_name": ".env",
   "language": "python",
   "name": "python3"
  },
  "language_info": {
   "codemirror_mode": {
    "name": "ipython",
    "version": 3
   },
   "file_extension": ".py",
   "mimetype": "text/x-python",
   "name": "python",
   "nbconvert_exporter": "python",
   "pygments_lexer": "ipython3",
   "version": "3.12.7"
  }
 },
 "nbformat": 4,
 "nbformat_minor": 2
}
