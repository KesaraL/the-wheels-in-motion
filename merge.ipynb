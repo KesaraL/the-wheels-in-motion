{
 "cells": [
  {
   "cell_type": "code",
   "execution_count": null,
   "metadata": {},
   "outputs": [],
   "source": [
    "import pandas as pd\n",
    "import glob\n",
    "\n",
    "# Define the directory where your CSV files are located\n",
    "csv_files_directory = 'path_to_your_csv_files/'  # Update this to the correct directory\n",
    "\n",
    "# Load all 9 CSV files into a list\n",
    "csv_files = glob.glob(csv_files_directory + \"*.csv\")  # Adjust file pattern if needed\n",
    "csv_data_list = [pd.read_csv(file) for file in csv_files]\n",
    "\n",
    "# Concatenate the files into a single DataFrame\n",
    "vehicles_df = pd.concat(csv_data_list, ignore_index=True)\n",
    "\n",
    "# Display information about the concatenated DataFrame\n",
    "print(f\"Combined DataFrame has {vehicles_df.shape[0]} rows and {vehicles_df.shape[1]} columns.\")\n",
    "print(vehicles_df.head())\n",
    "\n",
    "# Save to a new CSV file (optional)\n",
    "vehicles_df.to_csv(\"combined_vehicles_data.csv\", index=False)\n",
    "print(\"Combined DataFrame saved to 'combined_vehicles_data.csv'.\")\n"
   ]
  }
 ],
 "metadata": {
  "language_info": {
   "name": "python"
  }
 },
 "nbformat": 4,
 "nbformat_minor": 2
}
